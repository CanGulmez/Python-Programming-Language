{
 "metadata": {
  "language_info": {
   "codemirror_mode": {
    "name": "ipython",
    "version": 3
   },
   "file_extension": ".py",
   "mimetype": "text/x-python",
   "name": "python",
   "nbconvert_exporter": "python",
   "pygments_lexer": "ipython3",
   "version": "3.8.5"
  },
  "orig_nbformat": 2,
  "kernelspec": {
   "name": "python385jvsc74a57bd0e6326ae2dc7cd7629e7601181b1c625552adf2d5e9e5e96f66d5d4efbd1b9385",
   "display_name": "Python 3.8.5 64-bit"
  },
  "metadata": {
   "interpreter": {
    "hash": "e6326ae2dc7cd7629e7601181b1c625552adf2d5e9e5e96f66d5d4efbd1b9385"
   }
  }
 },
 "nbformat": 4,
 "nbformat_minor": 2,
 "cells": [
  {
   "source": [
    "# Functions"
   ],
   "cell_type": "markdown",
   "metadata": {}
  },
  {
   "cell_type": "code",
   "execution_count": 1,
   "metadata": {},
   "outputs": [
    {
     "output_type": "stream",
     "name": "stdout",
     "text": [
      "Hello World ...\n"
     ]
    }
   ],
   "source": [
    "def introduction():\n",
    "\n",
    "    print(\"Hello World ...\")\n",
    "\n",
    "introduction()"
   ]
  },
  {
   "cell_type": "code",
   "execution_count": 8,
   "metadata": {},
   "outputs": [
    {
     "output_type": "stream",
     "name": "stdout",
     "text": [
      "[45, 89, 8888888, 3, 52, 10, 85]\n"
     ]
    }
   ],
   "source": [
    "numbers = [45, 89, 7, 3, 52, 10, 85]\n",
    "\n",
    "def result(num):\n",
    "    num[2] = 8888888\n",
    "\n",
    "result(num=numbers)\n",
    "\n",
    "print(numbers)"
   ]
  },
  {
   "cell_type": "code",
   "execution_count": 10,
   "metadata": {},
   "outputs": [
    {
     "output_type": "execute_result",
     "data": {
      "text/plain": [
       "3.7305699481865284"
      ]
     },
     "metadata": {},
     "execution_count": 10
    }
   ],
   "source": [
    "def maths(x, y, z, p = 0):\n",
    "\n",
    "    return x * y / z\n",
    "\n",
    "maths(x=45, y=80, z=965, p=4555)"
   ]
  },
  {
   "cell_type": "code",
   "execution_count": 12,
   "metadata": {},
   "outputs": [
    {
     "output_type": "execute_result",
     "data": {
      "text/plain": [
       "197"
      ]
     },
     "metadata": {},
     "execution_count": 12
    }
   ],
   "source": [
    "def maths(*numbers):\n",
    "\n",
    "    # return max(numbers)\n",
    "    # return min(numbers)\n",
    "    return sum(numbers)\n",
    "\n",
    "maths(45, 7, 85, 24, 36)"
   ]
  },
  {
   "cell_type": "code",
   "execution_count": 15,
   "metadata": {},
   "outputs": [
    {
     "output_type": "stream",
     "name": "stdout",
     "text": [
      "name: Ali\nsurname: Can\n"
     ]
    }
   ],
   "source": [
    "def dictonary(**a):\n",
    "\n",
    "    for keys, values in a.items():\n",
    "\n",
    "        print(f\"{keys}: {values}\")\n",
    "    \n",
    "dictonary(name = \"Ali\", surname = \"Can\")"
   ]
  },
  {
   "cell_type": "code",
   "execution_count": 17,
   "metadata": {},
   "outputs": [
    {
     "output_type": "execute_result",
     "data": {
      "text/plain": [
       "[456, 89, 5, 10, 98935, True, 'Ali']"
      ]
     },
     "metadata": {},
     "execution_count": 17
    }
   ],
   "source": [
    "result = []\n",
    "\n",
    "def added(*values):\n",
    "\n",
    "    for i in values:\n",
    "        result.append(i)\n",
    "\n",
    "    return result\n",
    "\n",
    "added(456, 89, 5, 10, 98935, True, \"Ali\")"
   ]
  },
  {
   "cell_type": "code",
   "execution_count": 23,
   "metadata": {},
   "outputs": [
    {
     "output_type": "execute_result",
     "data": {
      "text/plain": [
       "[8990607867641856, 241247054342326761]"
      ]
     },
     "metadata": {},
     "execution_count": 23
    }
   ],
   "source": [
    "def number(a):\n",
    "\n",
    "    return a ** 6\n",
    "\n",
    "result = [456, 789]\n",
    "\n",
    "list(map(number, result))"
   ]
  },
  {
   "cell_type": "code",
   "execution_count": 24,
   "metadata": {},
   "outputs": [
    {
     "output_type": "stream",
     "name": "stdout",
     "text": [
      "[52521875, 32768, 834810350260400338636800000]\n"
     ]
    }
   ],
   "source": [
    "list1 = [35, 8, 242280]\n",
    "\n",
    "grift = list(map(lambda numbers: numbers ** 5, list1))\n",
    "print(grift)"
   ]
  },
  {
   "cell_type": "code",
   "execution_count": 25,
   "metadata": {},
   "outputs": [
    {
     "output_type": "stream",
     "name": "stdout",
     "text": [
      "[56, 78, 10]\n"
     ]
    }
   ],
   "source": [
    "list1 = [45, 56, 89, 78, 10]\n",
    "\n",
    "def a(numbers):\n",
    "     return numbers % 2 == 0\n",
    "\n",
    "print(list(filter(a, list1)))"
   ]
  },
  {
   "cell_type": "code",
   "execution_count": 20,
   "metadata": {
    "tags": []
   },
   "outputs": [
    {
     "output_type": "stream",
     "name": "stdout",
     "text": [
      "[11, 13, 17, 19, 23, 29, 31, 37, 41, 43, 47, 53, 59, 61, 67, 71, 73, 79, 83, 89, 97, 101, 103, 107, 109, 113, 127, 131, 137, 139, 149, 151]\n"
     ]
    }
   ],
   "source": [
    "result = []\n",
    "\n",
    "input1 = int(input(\"Başlangıç sayısı: \"))\n",
    "input2 = int(input(\"Bitiş sayısı: \"))\n",
    "\n",
    "def asalSayılarıBul(sayı1, sayı2):\n",
    "\n",
    "    for sayı in range(sayı1, sayı2 + 1):\n",
    "        if sayı > 1:\n",
    "            for i in range(2, sayı):\n",
    "                if sayı % i == 0:\n",
    "                    break\n",
    "            else:\n",
    "                result.append(sayı)\n",
    "\n",
    "asalSayılarıBul(sayı1=input1, sayı2=input2)\n",
    "\n",
    "print(result)"
   ]
  },
  {
   "cell_type": "code",
   "execution_count": 22,
   "metadata": {},
   "outputs": [
    {
     "output_type": "stream",
     "name": "stdout",
     "text": [
      "[2, 4, 5, 10]\n"
     ]
    }
   ],
   "source": [
    "result = []\n",
    "sayı = int(input(\"Sayı: \"))\n",
    "\n",
    "def tamBöleniBul(sayı):\n",
    "\n",
    "    for i in range(2, sayı):\n",
    "\n",
    "        if sayı % i == 0:\n",
    "            result.append(i)\n",
    "\n",
    "tamBöleniBul(sayı=sayı)\n",
    "\n",
    "print(result)"
   ]
  },
  {
   "cell_type": "code",
   "execution_count": 28,
   "metadata": {},
   "outputs": [],
   "source": [
    "# def outer(number):\n",
    "#     print(\"outer\")\n",
    "\n",
    "#     def inner(number):\n",
    "#         print(\"inner\")\n",
    "\n",
    "#         return number + 1\n",
    "\n",
    "#     numbers = inner(number)\n",
    "#     print(number, numbers)\n",
    "\n",
    "# outer(number = 100)"
   ]
  },
  {
   "cell_type": "code",
   "execution_count": 36,
   "metadata": {},
   "outputs": [
    {
     "output_type": "stream",
     "name": "stdout",
     "text": [
      "15511210043330985984000000\n"
     ]
    }
   ],
   "source": [
    "def factorial(number):\n",
    "\n",
    "    if not isinstance(number, int):\n",
    "        raise TypeError(\"number must be an integer\")\n",
    "\n",
    "    if not number > 0:\n",
    "        raise ValueError(\"number must be positive or zero\")\n",
    "\n",
    "    def inner_factorial(number):\n",
    "\n",
    "        if number <= 1:\n",
    "            return 1\n",
    "\n",
    "        return number * inner_factorial(number - 1)\n",
    "\n",
    "    return inner_factorial(number)\n",
    "\n",
    "try:\n",
    "    input1 = int(input(\"Sayı: \"))\n",
    "    print(factorial(number = input1))\n",
    "except Exception as ex:\n",
    "    print(ex)"
   ]
  },
  {
   "cell_type": "code",
   "execution_count": 37,
   "metadata": {},
   "outputs": [
    {
     "output_type": "execute_result",
     "data": {
      "text/plain": [
       "9"
      ]
     },
     "metadata": {},
     "execution_count": 37
    }
   ],
   "source": [
    "def usAlma(sayı):\n",
    "\n",
    "    def inner(sayı2):\n",
    "\n",
    "        return sayı ** sayı2\n",
    "\n",
    "    return inner\n",
    "\n",
    "input1 = int(input(\"Taban: \"))\n",
    "input2 = int(input(\"Üs: \"))\n",
    "\n",
    "x = usAlma(sayı=input1)\n",
    "x(input2)"
   ]
  },
  {
   "cell_type": "code",
   "execution_count": 46,
   "metadata": {},
   "outputs": [
    {
     "output_type": "stream",
     "name": "stdout",
     "text": [
      "94\n"
     ]
    }
   ],
   "source": [
    "def dörtİşlem(işlem_adı):\n",
    "\n",
    "    def toplama(*a):\n",
    "        toplama = 0\n",
    "\n",
    "        for i in a:\n",
    "            toplama += i\n",
    "\n",
    "        return toplama\n",
    "\n",
    "    def carpma(*b):\n",
    "        carpma = 1\n",
    "\n",
    "        for i in b:\n",
    "            carpma *= i\n",
    "\n",
    "        return carpma\n",
    "\n",
    "    if işlem_adı == \"toplama\":\n",
    "        return toplama\n",
    "\n",
    "    elif işlem_adı == \"çarpma\":\n",
    "        return carpma\n",
    "\n",
    "    elif not (işlem_adı == \"toplama\" or işlem_adı ==  \"çarpma\"):\n",
    "        raise Exception(\"Tanımlanamayan karakter kullandınız...\")\n",
    "\n",
    "# input1 = input(\"Yapmak istediğiniz işlem (Kullanabileceğiniz işlemler: toplama, çarpma): \")\n",
    "\n",
    "try:\n",
    "    a = dörtİşlem(işlem_adı=\"toplama\")\n",
    "    print(a(5, 89))\n",
    "except Exception as ex:\n",
    "    print(ex)"
   ]
  },
  {
   "cell_type": "code",
   "execution_count": 49,
   "metadata": {},
   "outputs": [
    {
     "output_type": "stream",
     "name": "stdout",
     "text": [
      "9106\n"
     ]
    }
   ],
   "source": [
    "def toplam(x, y):\n",
    "     return x + y\n",
    "\n",
    "def cikarma(x, y):\n",
    "     return x - y\n",
    "\n",
    "def sonuc(f1, f2, islem):\n",
    "\n",
    "     if islem == \"toplam\":\n",
    "          print(f1(552, 8554))\n",
    "\n",
    "     elif islem == \"cikarma\":\n",
    "          print(f2(86565, 5320))\n",
    "\n",
    "     elif not (islem == \"toplam\" or islem == \"cikarma\"):\n",
    "          raise Exception(\"Yanlış girdiniz.\")\n",
    "\n",
    "try:\n",
    "     sonuc(toplam, cikarma, \"toplam\")\n",
    "except Exception as exc:\n",
    "     print(exc)"
   ]
  },
  {
   "cell_type": "code",
   "execution_count": null,
   "metadata": {},
   "outputs": [],
   "source": []
  }
 ]
}