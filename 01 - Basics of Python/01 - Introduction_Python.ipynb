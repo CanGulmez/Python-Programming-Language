{
 "metadata": {
  "language_info": {
   "codemirror_mode": {
    "name": "ipython",
    "version": 3
   },
   "file_extension": ".py",
   "mimetype": "text/x-python",
   "name": "python",
   "nbconvert_exporter": "python",
   "pygments_lexer": "ipython3",
   "version": "3.8.5"
  },
  "orig_nbformat": 2,
  "kernelspec": {
   "name": "python385jvsc74a57bd0e6326ae2dc7cd7629e7601181b1c625552adf2d5e9e5e96f66d5d4efbd1b9385",
   "display_name": "Python 3.8.5 64-bit"
  },
  "metadata": {
   "interpreter": {
    "hash": "e6326ae2dc7cd7629e7601181b1c625552adf2d5e9e5e96f66d5d4efbd1b9385"
   }
  }
 },
 "nbformat": 4,
 "nbformat_minor": 2,
 "cells": [
  {
   "source": [
    "# Introduction Python"
   ],
   "cell_type": "markdown",
   "metadata": {}
  },
  {
   "source": [
    "## 1.0 Introduction"
   ],
   "cell_type": "markdown",
   "metadata": {}
  },
  {
   "cell_type": "code",
   "execution_count": 1,
   "metadata": {},
   "outputs": [
    {
     "output_type": "stream",
     "name": "stdout",
     "text": [
      "Hello World\n"
     ]
    }
   ],
   "source": [
    "print(\"Hello World\")"
   ]
  },
  {
   "cell_type": "code",
   "execution_count": 2,
   "metadata": {},
   "outputs": [],
   "source": [
    "X = 5\n",
    "Y = 5.5 \n",
    "Z = \"Hi\"\n",
    "P = True"
   ]
  },
  {
   "cell_type": "code",
   "execution_count": 3,
   "metadata": {},
   "outputs": [
    {
     "output_type": "stream",
     "name": "stdout",
     "text": [
      "type of X:  <class 'int'>\n"
     ]
    }
   ],
   "source": [
    "print(\"type of X: \", type(X))"
   ]
  },
  {
   "cell_type": "code",
   "execution_count": 4,
   "metadata": {},
   "outputs": [
    {
     "output_type": "stream",
     "name": "stdout",
     "text": [
      "type of Y:  <class 'float'>\n"
     ]
    }
   ],
   "source": [
    "print(\"type of Y: \", type(Y))"
   ]
  },
  {
   "cell_type": "code",
   "execution_count": 5,
   "metadata": {},
   "outputs": [
    {
     "output_type": "stream",
     "name": "stdout",
     "text": [
      "type of Z:  <class 'str'>\n"
     ]
    }
   ],
   "source": [
    "print(\"type of Z: \", type(Z))"
   ]
  },
  {
   "cell_type": "code",
   "execution_count": 6,
   "metadata": {},
   "outputs": [
    {
     "output_type": "stream",
     "name": "stdout",
     "text": [
      "type of P:  <class 'bool'>\n"
     ]
    }
   ],
   "source": [
    "print(\"type of P: \", type(P))"
   ]
  },
  {
   "source": [
    "## 2.0 String methods"
   ],
   "cell_type": "markdown",
   "metadata": {}
  },
  {
   "source": [
    "### Editing Big and Short Latter"
   ],
   "cell_type": "markdown",
   "metadata": {}
  },
  {
   "cell_type": "code",
   "execution_count": 32,
   "metadata": {},
   "outputs": [],
   "source": [
    "message = \"    I think therefore, I am\""
   ]
  },
  {
   "cell_type": "code",
   "execution_count": 33,
   "metadata": {},
   "outputs": [
    {
     "output_type": "execute_result",
     "data": {
      "text/plain": [
       "'    I THINK THEREFORE, I AM'"
      ]
     },
     "metadata": {},
     "execution_count": 33
    }
   ],
   "source": [
    "message.upper()"
   ]
  },
  {
   "cell_type": "code",
   "execution_count": 34,
   "metadata": {},
   "outputs": [
    {
     "output_type": "execute_result",
     "data": {
      "text/plain": [
       "'    i think therefore, i am'"
      ]
     },
     "metadata": {},
     "execution_count": 34
    }
   ],
   "source": [
    "message.lower()"
   ]
  },
  {
   "cell_type": "code",
   "execution_count": 35,
   "metadata": {},
   "outputs": [
    {
     "output_type": "execute_result",
     "data": {
      "text/plain": [
       "'    I Think Therefore, I Am'"
      ]
     },
     "metadata": {},
     "execution_count": 35
    }
   ],
   "source": [
    "message.title()"
   ]
  },
  {
   "cell_type": "code",
   "execution_count": 36,
   "metadata": {},
   "outputs": [
    {
     "output_type": "execute_result",
     "data": {
      "text/plain": [
       "'    i think therefore, i am'"
      ]
     },
     "metadata": {},
     "execution_count": 36
    }
   ],
   "source": [
    "message.capitalize()"
   ]
  },
  {
   "source": [
    "### Adjustnig spaces"
   ],
   "cell_type": "markdown",
   "metadata": {}
  },
  {
   "cell_type": "code",
   "execution_count": 37,
   "metadata": {},
   "outputs": [
    {
     "output_type": "execute_result",
     "data": {
      "text/plain": [
       "'I think therefore, I am'"
      ]
     },
     "metadata": {},
     "execution_count": 37
    }
   ],
   "source": [
    "message.strip()"
   ]
  },
  {
   "cell_type": "code",
   "execution_count": 38,
   "metadata": {},
   "outputs": [
    {
     "output_type": "execute_result",
     "data": {
      "text/plain": [
       "'I think therefore, I am'"
      ]
     },
     "metadata": {},
     "execution_count": 38
    }
   ],
   "source": [
    "message.lstrip()"
   ]
  },
  {
   "cell_type": "code",
   "execution_count": 39,
   "metadata": {},
   "outputs": [
    {
     "output_type": "execute_result",
     "data": {
      "text/plain": [
       "'    I think therefore, I am'"
      ]
     },
     "metadata": {},
     "execution_count": 39
    }
   ],
   "source": [
    "message.rstrip()"
   ]
  },
  {
   "source": [
    "### Clustring"
   ],
   "cell_type": "markdown",
   "metadata": {}
  },
  {
   "cell_type": "code",
   "execution_count": 40,
   "metadata": {},
   "outputs": [
    {
     "output_type": "execute_result",
     "data": {
      "text/plain": [
       "['I', 'think', 'therefore,', 'I', 'am']"
      ]
     },
     "metadata": {},
     "execution_count": 40
    }
   ],
   "source": [
    "message.split()"
   ]
  },
  {
   "source": [
    "### Join"
   ],
   "cell_type": "markdown",
   "metadata": {}
  },
  {
   "cell_type": "code",
   "execution_count": 41,
   "metadata": {},
   "outputs": [
    {
     "output_type": "execute_result",
     "data": {
      "text/plain": [
       "'  ......    ......    ......    ......  I ......    ......  t ......  h ......  i ......  n ......  k ......    ......  t ......  h ......  e ......  r ......  e ......  f ......  o ......  r ......  e ......  , ......    ......  I ......    ......  a ......  m'"
      ]
     },
     "metadata": {},
     "execution_count": 41
    }
   ],
   "source": [
    "\" ......  \".join(message)"
   ]
  },
  {
   "source": [
    "### Search Words"
   ],
   "cell_type": "markdown",
   "metadata": {}
  },
  {
   "cell_type": "code",
   "execution_count": 43,
   "metadata": {},
   "outputs": [
    {
     "output_type": "execute_result",
     "data": {
      "text/plain": [
       "-1"
      ]
     },
     "metadata": {},
     "execution_count": 43
    }
   ],
   "source": [
    "message.find(\"python\")"
   ]
  },
  {
   "source": [
    "### Change Charachters"
   ],
   "cell_type": "markdown",
   "metadata": {}
  },
  {
   "cell_type": "code",
   "execution_count": 50,
   "metadata": {},
   "outputs": [
    {
     "output_type": "execute_result",
     "data": {
      "text/plain": [
       "'    I think therefore____ I am'"
      ]
     },
     "metadata": {},
     "execution_count": 50
    }
   ],
   "source": [
    "message.replace(\",\", \"____\")"
   ]
  },
  {
   "cell_type": "code",
   "execution_count": 52,
   "metadata": {},
   "outputs": [
    {
     "output_type": "execute_result",
     "data": {
      "text/plain": [
       "'********************************************************************************************************************************************************************************************************************************************    I think therefore, I am*********************************************************************************************************************************************************************************************************************************************'"
      ]
     },
     "metadata": {},
     "execution_count": 52
    }
   ],
   "source": [
    "message.center(500, \"*\")"
   ]
  },
  {
   "source": [
    "## 3.0 List Methods"
   ],
   "cell_type": "markdown",
   "metadata": {}
  },
  {
   "cell_type": "code",
   "execution_count": 71,
   "metadata": {},
   "outputs": [],
   "source": [
    "fruits = [\"Apple\", \"Cherry\", \"Bananas\", \"Orange\", \"Lemon\"]"
   ]
  },
  {
   "cell_type": "code",
   "execution_count": 72,
   "metadata": {},
   "outputs": [
    {
     "output_type": "stream",
     "name": "stdout",
     "text": [
      "5\n"
     ]
    }
   ],
   "source": [
    "print(len(fruits))"
   ]
  },
  {
   "cell_type": "code",
   "execution_count": 73,
   "metadata": {},
   "outputs": [
    {
     "output_type": "stream",
     "name": "stdout",
     "text": [
      "Bananas\n"
     ]
    }
   ],
   "source": [
    "print(fruits[2])"
   ]
  },
  {
   "cell_type": "code",
   "execution_count": 137,
   "metadata": {},
   "outputs": [],
   "source": [
    "fruits[-1] = \"Mushrooms\""
   ]
  },
  {
   "cell_type": "code",
   "execution_count": 79,
   "metadata": {},
   "outputs": [
    {
     "output_type": "stream",
     "name": "stdout",
     "text": [
      "['Apple', 'Cherry', 'Bananas', 'Orange', 'Mushrooms']\n"
     ]
    }
   ],
   "source": [
    "print(fruits)"
   ]
  },
  {
   "cell_type": "code",
   "execution_count": 80,
   "metadata": {},
   "outputs": [
    {
     "output_type": "stream",
     "name": "stdout",
     "text": [
      "False\n"
     ]
    }
   ],
   "source": [
    "print(\"Banana\" in fruits)"
   ]
  },
  {
   "cell_type": "code",
   "execution_count": 82,
   "metadata": {},
   "outputs": [
    {
     "output_type": "stream",
     "name": "stdout",
     "text": [
      "['Apple', 'Cherry', 'Bananas']\n"
     ]
    }
   ],
   "source": [
    "print(fruits[0: 3])"
   ]
  },
  {
   "cell_type": "code",
   "execution_count": 83,
   "metadata": {},
   "outputs": [],
   "source": [
    "del fruits[-1]"
   ]
  },
  {
   "cell_type": "code",
   "execution_count": 84,
   "metadata": {},
   "outputs": [
    {
     "output_type": "execute_result",
     "data": {
      "text/plain": [
       "['Apple', 'Cherry', 'Bananas', 'Orange']"
      ]
     },
     "metadata": {},
     "execution_count": 84
    }
   ],
   "source": [
    "fruits"
   ]
  },
  {
   "cell_type": "code",
   "execution_count": 88,
   "metadata": {},
   "outputs": [],
   "source": [
    "numbers = [4, 1, 2, 3, 0, 9, 6, 7, 4, 9]\n",
    "letters = [\"k\", \"c\", \"b\", \"d\", \"e\", \"f\", \"g\", \"a\"]"
   ]
  },
  {
   "cell_type": "code",
   "execution_count": 89,
   "metadata": {},
   "outputs": [
    {
     "output_type": "stream",
     "name": "stdout",
     "text": [
      "9\na\n"
     ]
    }
   ],
   "source": [
    "print(max(numbers))\n",
    "print(min(letters))"
   ]
  },
  {
   "cell_type": "code",
   "execution_count": 90,
   "metadata": {},
   "outputs": [],
   "source": [
    "numbers.insert(1, 4545)"
   ]
  },
  {
   "cell_type": "code",
   "execution_count": 91,
   "metadata": {},
   "outputs": [
    {
     "output_type": "execute_result",
     "data": {
      "text/plain": [
       "[4, 4545, 1, 2, 3, 0, 9, 6, 7, 4, 9]"
      ]
     },
     "metadata": {},
     "execution_count": 91
    }
   ],
   "source": [
    "numbers"
   ]
  },
  {
   "cell_type": "code",
   "execution_count": 92,
   "metadata": {},
   "outputs": [
    {
     "output_type": "execute_result",
     "data": {
      "text/plain": [
       "9"
      ]
     },
     "metadata": {},
     "execution_count": 92
    }
   ],
   "source": [
    "numbers.pop()"
   ]
  },
  {
   "cell_type": "code",
   "execution_count": 93,
   "metadata": {},
   "outputs": [
    {
     "output_type": "execute_result",
     "data": {
      "text/plain": [
       "[4, 4545, 1, 2, 3, 0, 9, 6, 7, 4]"
      ]
     },
     "metadata": {},
     "execution_count": 93
    }
   ],
   "source": [
    "numbers"
   ]
  },
  {
   "cell_type": "code",
   "execution_count": 94,
   "metadata": {},
   "outputs": [],
   "source": [
    "numbers.remove(4545)"
   ]
  },
  {
   "cell_type": "code",
   "execution_count": 95,
   "metadata": {},
   "outputs": [
    {
     "output_type": "execute_result",
     "data": {
      "text/plain": [
       "[4, 1, 2, 3, 0, 9, 6, 7, 4]"
      ]
     },
     "metadata": {},
     "execution_count": 95
    }
   ],
   "source": [
    "numbers"
   ]
  },
  {
   "cell_type": "code",
   "execution_count": 96,
   "metadata": {},
   "outputs": [],
   "source": [
    "numbers.sort()"
   ]
  },
  {
   "cell_type": "code",
   "execution_count": 97,
   "metadata": {},
   "outputs": [
    {
     "output_type": "execute_result",
     "data": {
      "text/plain": [
       "[0, 1, 2, 3, 4, 4, 6, 7, 9]"
      ]
     },
     "metadata": {},
     "execution_count": 97
    }
   ],
   "source": [
    "numbers"
   ]
  },
  {
   "cell_type": "code",
   "execution_count": 104,
   "metadata": {},
   "outputs": [],
   "source": [
    "letters.reverse()"
   ]
  },
  {
   "cell_type": "code",
   "execution_count": 105,
   "metadata": {},
   "outputs": [
    {
     "output_type": "execute_result",
     "data": {
      "text/plain": [
       "['k', 'c', 'b', 'd', 'e', 'f', 'g', 'a']"
      ]
     },
     "metadata": {},
     "execution_count": 105
    }
   ],
   "source": [
    "letters"
   ]
  },
  {
   "source": [
    "## 4.0 Tuple Methods"
   ],
   "cell_type": "markdown",
   "metadata": {}
  },
  {
   "cell_type": "code",
   "execution_count": 106,
   "metadata": {},
   "outputs": [],
   "source": [
    "names = [\"Merkel\", \"Erdoğan\", \"Putin\", \"Macron\", \"Trump\"]\n",
    "thing = \"Carpet\", \"Mirror\", \"FirePlace\", False"
   ]
  },
  {
   "cell_type": "code",
   "execution_count": 108,
   "metadata": {},
   "outputs": [
    {
     "output_type": "stream",
     "name": "stdout",
     "text": [
      "<class 'list'>\n<class 'tuple'>\n"
     ]
    }
   ],
   "source": [
    "print(type(names))\n",
    "print(type(thing))"
   ]
  },
  {
   "cell_type": "code",
   "execution_count": 109,
   "metadata": {},
   "outputs": [
    {
     "output_type": "stream",
     "name": "stdout",
     "text": [
      "['Merkel', 'Erdoğan']\n('Mirror', 'FirePlace')\n"
     ]
    }
   ],
   "source": [
    "print(names[0:2])\n",
    "print(thing[1: 3])"
   ]
  },
  {
   "source": [
    "## 5.0 Dictonary Methods"
   ],
   "cell_type": "markdown",
   "metadata": {}
  },
  {
   "cell_type": "code",
   "execution_count": 123,
   "metadata": {},
   "outputs": [],
   "source": [
    "person = {\n",
    "    \"person 1\": {\n",
    "        \"Person Id\": 456820397,\n",
    "        \"First Name\": \"Ali\",\n",
    "        \"Second Name\": \"Can\",\n",
    "        \"Country\": \"Turkey\",\n",
    "        \"Comination\": {\n",
    "            \"Phone Number\": 5901384870,\n",
    "            \"E-mail\": False\n",
    "        }\n",
    "    },\n",
    "    \"person 2\": {\n",
    "        \"Person Id\": 986822490,\n",
    "        \"First Name\": \"Cem\",\n",
    "        \"Second Name\": \"Eğilmez\",\n",
    "        \"Country\": \"Turkey\",\n",
    "        \"Comination\": {\n",
    "            \"Phone Number\": False,\n",
    "            \"E-mail\": \"cem_eğilmez123@gmail.com\"\n",
    "        }\n",
    "    }\n",
    "}"
   ]
  },
  {
   "cell_type": "code",
   "execution_count": 124,
   "metadata": {},
   "outputs": [
    {
     "output_type": "execute_result",
     "data": {
      "text/plain": [
       "{'person 1': {'Person Id': 456820397,\n",
       "  'First Name': 'Ali',\n",
       "  'Second Name': 'Can',\n",
       "  'Country': 'Turkey',\n",
       "  'Comination': {'Phone Number': 5901384870, 'E-mail': False}},\n",
       " 'person 2': {'Person Id': 986822490,\n",
       "  'First Name': 'Cem',\n",
       "  'Second Name': 'Eğilmez',\n",
       "  'Country': 'Turkey',\n",
       "  'Comination': {'Phone Number': False, 'E-mail': 'cem_eğilmez123@gmail.com'}}}"
      ]
     },
     "metadata": {},
     "execution_count": 124
    }
   ],
   "source": [
    "person"
   ]
  },
  {
   "cell_type": "code",
   "execution_count": 125,
   "metadata": {},
   "outputs": [
    {
     "output_type": "execute_result",
     "data": {
      "text/plain": [
       "{'Person Id': 456820397,\n",
       " 'First Name': 'Ali',\n",
       " 'Second Name': 'Can',\n",
       " 'Country': 'Turkey',\n",
       " 'Comination': {'Phone Number': 5901384870, 'E-mail': False}}"
      ]
     },
     "metadata": {},
     "execution_count": 125
    }
   ],
   "source": [
    "person[\"person 1\"]"
   ]
  },
  {
   "cell_type": "code",
   "execution_count": 126,
   "metadata": {},
   "outputs": [
    {
     "output_type": "execute_result",
     "data": {
      "text/plain": [
       "{'Phone Number': 5901384870, 'E-mail': False}"
      ]
     },
     "metadata": {},
     "execution_count": 126
    }
   ],
   "source": [
    "person[\"person 1\"][\"Comination\"]"
   ]
  },
  {
   "cell_type": "code",
   "execution_count": 131,
   "metadata": {},
   "outputs": [
    {
     "output_type": "execute_result",
     "data": {
      "text/plain": [
       "False"
      ]
     },
     "metadata": {},
     "execution_count": 131
    }
   ],
   "source": [
    "person[\"person 1\"][\"Comination\"][\"E-mail\"]"
   ]
  },
  {
   "cell_type": "code",
   "execution_count": 136,
   "metadata": {},
   "outputs": [
    {
     "output_type": "execute_result",
     "data": {
      "text/plain": [
       "'n'"
      ]
     },
     "metadata": {},
     "execution_count": 136
    }
   ],
   "source": [
    "person[\"person 1\"][\"Second Name\"][2]"
   ]
  },
  {
   "source": [
    "## 6.0 Sets Methods"
   ],
   "cell_type": "markdown",
   "metadata": {}
  },
  {
   "cell_type": "code",
   "execution_count": 138,
   "metadata": {},
   "outputs": [],
   "source": [
    "fruits = {\"orange\", \"apple\", \"banana\"}"
   ]
  },
  {
   "cell_type": "code",
   "execution_count": 139,
   "metadata": {},
   "outputs": [
    {
     "output_type": "stream",
     "name": "stdout",
     "text": [
      "{'banana', 'apple', 'orange'}\n"
     ]
    },
    {
     "output_type": "error",
     "ename": "TypeError",
     "evalue": "'set' object is not subscriptable",
     "traceback": [
      "\u001b[1;31m---------------------------------------------------------------------------\u001b[0m",
      "\u001b[1;31mTypeError\u001b[0m                                 Traceback (most recent call last)",
      "\u001b[1;32m<ipython-input-139-9c7653ca8623>\u001b[0m in \u001b[0;36m<module>\u001b[1;34m\u001b[0m\n\u001b[0;32m      1\u001b[0m \u001b[0mprint\u001b[0m\u001b[1;33m(\u001b[0m\u001b[0mfruits\u001b[0m\u001b[1;33m)\u001b[0m\u001b[1;33m\u001b[0m\u001b[1;33m\u001b[0m\u001b[0m\n\u001b[1;32m----> 2\u001b[1;33m \u001b[0mprint\u001b[0m\u001b[1;33m(\u001b[0m\u001b[0mfruits\u001b[0m\u001b[1;33m[\u001b[0m\u001b[1;36m0\u001b[0m\u001b[1;33m]\u001b[0m\u001b[1;33m)\u001b[0m   \u001b[1;31m# indexlenemez, sıralanamaz.\u001b[0m\u001b[1;33m\u001b[0m\u001b[1;33m\u001b[0m\u001b[0m\n\u001b[0m",
      "\u001b[1;31mTypeError\u001b[0m: 'set' object is not subscriptable"
     ]
    }
   ],
   "source": [
    "print(fruits)\n",
    "print(fruits[0])   # indexlenemez, sıralanamaz. "
   ]
  },
  {
   "cell_type": "code",
   "execution_count": 140,
   "metadata": {},
   "outputs": [
    {
     "output_type": "stream",
     "name": "stdout",
     "text": [
      "{'banana', 'apple', 'orange', 'cheery'}\n"
     ]
    }
   ],
   "source": [
    "fruits.add(\"cheery\")\n",
    "print(fruits)"
   ]
  },
  {
   "cell_type": "code",
   "execution_count": 141,
   "metadata": {},
   "outputs": [
    {
     "output_type": "stream",
     "name": "stdout",
     "text": [
      "{'banana', 'orange', 'cheery', 'grape', 'apple', 'mango'}\n"
     ]
    }
   ],
   "source": [
    "fruits.update([\"mango\", \"grape\"])\n",
    "print(fruits)"
   ]
  },
  {
   "cell_type": "code",
   "execution_count": 142,
   "metadata": {},
   "outputs": [
    {
     "output_type": "stream",
     "name": "stdout",
     "text": [
      "{'banana', 'orange', 'cheery', 'grape', 'apple'}\n"
     ]
    }
   ],
   "source": [
    "fruits.remove(\"mango\")\n",
    "print(fruits)"
   ]
  }
 ]
}