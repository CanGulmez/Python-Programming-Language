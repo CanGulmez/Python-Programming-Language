{
 "metadata": {
  "language_info": {
   "codemirror_mode": {
    "name": "ipython",
    "version": 3
   },
   "file_extension": ".py",
   "mimetype": "text/x-python",
   "name": "python",
   "nbconvert_exporter": "python",
   "pygments_lexer": "ipython3",
   "version": "3.8.5"
  },
  "orig_nbformat": 2,
  "kernelspec": {
   "name": "python3",
   "display_name": "Python 3.8.5 64-bit"
  },
  "metadata": {
   "interpreter": {
    "hash": "e6326ae2dc7cd7629e7601181b1c625552adf2d5e9e5e96f66d5d4efbd1b9385"
   }
  },
  "interpreter": {
   "hash": "e6326ae2dc7cd7629e7601181b1c625552adf2d5e9e5e96f66d5d4efbd1b9385"
  }
 },
 "nbformat": 4,
 "nbformat_minor": 2,
 "cells": [
  {
   "source": [
    "# Implementation: Calculator"
   ],
   "cell_type": "markdown",
   "metadata": {}
  },
  {
   "cell_type": "code",
   "execution_count": 25,
   "metadata": {},
   "outputs": [
    {
     "output_type": "stream",
     "name": "stdout",
     "text": [
      "Welcome to calculator !!!\n",
      "You can use operators: +, -, *, /\n",
      "---------\n",
      "Hello Can\n",
      "---------\n",
      "Result: 0.000995891945723889\n",
      "----------------------------------\n",
      "Your calculate operation complated\n"
     ]
    }
   ],
   "source": [
    "print(\"Welcome to calculator !!!\")\n",
    "print(\"You can use operators: +, -, *, /\")\n",
    "\n",
    "class calculator:\n",
    "\n",
    "    def __init__(self, operation, operation_1, operation_2):\n",
    "\n",
    "        self.operation = operation\n",
    "        self.operation_1 = operation_1\n",
    "        self.operation_2 = operation_2\n",
    "\n",
    "    @staticmethod\n",
    "    def person(name):\n",
    "        print(\"---------\")\n",
    "        print(\"Hello {}\".format(name))\n",
    "        print(\"---------\")\n",
    "\n",
    "    def calculate(self):\n",
    "\n",
    "        if self.operation == \"+\":\n",
    "            return self.operation_1 + self.operation_2\n",
    "\n",
    "        elif self.operation == \"-\":\n",
    "            return self.operation_1 - self.operation_2\n",
    "\n",
    "        elif self.operation == \"*\":\n",
    "            return self.operation_1 * self.operation_2\n",
    "\n",
    "        elif self.operation == \"/\":\n",
    "            return self.operation_1 / self.operation_2\n",
    "\n",
    "        elif not self.operation == \"+\" or \"-\" or \"*\" or  \"/\":\n",
    "            raise Exception(\"You entered wrong operation tools !!!\")\n",
    "\n",
    "try:\n",
    "    input_ = input(\"Name: \")\n",
    "    input_0 = input(\"Operator: \")\n",
    "    input_1 = int(input(\"1. operation: \"))\n",
    "    input_2 = int(input(\"2. operation: \"))\n",
    "\n",
    "    result = calculator(operation=input_0, operation_1=input_1, operation_2=input_2)\n",
    "    result.person(name=input_)\n",
    "    result.calculate()\n",
    "    \n",
    "    print(\"Result: {}\".format(result.calculate()))\n",
    "\n",
    "except Exception as ex:\n",
    "    print(\"Type of error: {}\".format(ex))\n",
    "\n",
    "finally:\n",
    "    print(\"----------------------------------\")\n",
    "    print(\"Your calculate operation complated\")"
   ]
  },
  {
   "cell_type": "code",
   "execution_count": null,
   "metadata": {},
   "outputs": [],
   "source": []
  }
 ]
}