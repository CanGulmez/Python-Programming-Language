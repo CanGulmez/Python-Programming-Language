{
 "metadata": {
  "language_info": {
   "codemirror_mode": {
    "name": "ipython",
    "version": 3
   },
   "file_extension": ".py",
   "mimetype": "text/x-python",
   "name": "python",
   "nbconvert_exporter": "python",
   "pygments_lexer": "ipython3",
   "version": "3.8.5"
  },
  "orig_nbformat": 2,
  "kernelspec": {
   "name": "python385jvsc74a57bd0e6326ae2dc7cd7629e7601181b1c625552adf2d5e9e5e96f66d5d4efbd1b9385",
   "display_name": "Python 3.8.5 64-bit"
  },
  "metadata": {
   "interpreter": {
    "hash": "e6326ae2dc7cd7629e7601181b1c625552adf2d5e9e5e96f66d5d4efbd1b9385"
   }
  }
 },
 "nbformat": 4,
 "nbformat_minor": 2,
 "cells": [
  {
   "source": [
    "# Management Error"
   ],
   "cell_type": "markdown",
   "metadata": {}
  },
  {
   "cell_type": "code",
   "execution_count": 69,
   "metadata": {},
   "outputs": [
    {
     "output_type": "stream",
     "name": "stdout",
     "text": [
      "Type of error:  name 'a' is not defined\nCompleted your calculation.\n"
     ]
    }
   ],
   "source": [
    "def calculate(number_1, number_2):\n",
    "    \n",
    "    if not isinstance(input_1, int):\n",
    "        raise Exception(\"First number must be integer\")\n",
    "    elif not isinstance(input_2, int):\n",
    "        raise Exception(\"Second number must be integer\")\n",
    "\n",
    "    return number_1 / number_2\n",
    "\n",
    "try:\n",
    "    input_0 = input(\"Name: \")\n",
    "    input_1 = int(input(\"First number: \"))\n",
    "    input_2 = int(input(\"Second number: \"))\n",
    "\n",
    "    calculate(number_1= input_1, number_2= input_2)\n",
    "\n",
    "    print(f\"Wellcome to {input_0}\")\n",
    "    print(\"Result: \", (input_1 / input_2))\n",
    "\n",
    "except Exception as Except:\n",
    "    print(\"Type of error: \", Except)\n",
    "\n",
    "finally:\n",
    "    print(\"Completed your calculation.\")"
   ]
  },
  {
   "cell_type": "code",
   "execution_count": 76,
   "metadata": {},
   "outputs": [
    {
     "output_type": "stream",
     "name": "stdout",
     "text": [
      "Type of error:  invalid literal for int() with base 10: 'fg'\nComplated calculation\n"
     ]
    }
   ],
   "source": [
    "class personal_information:\n",
    "\n",
    "    def __init__(self, name, birthdate):\n",
    "\n",
    "        birthdate = int(birthdate)\n",
    "\n",
    "        if not birthdate == int(birthdate):\n",
    "            raise Exception(\"Your birthdate is a integer number !!!\")\n",
    "        else:\n",
    "            self.name = name\n",
    "            self.birthdate = birthdate\n",
    "\n",
    "    def info_1(self):\n",
    "        print(f\"Welcome to {self.name}\")\n",
    "\n",
    "    def info_2(self):\n",
    "        return 2021 - self.birthdate\n",
    "\n",
    "try:\n",
    "    input_0 = input(\"Your name: \")\n",
    "    input_1 = int(input(\"Your birthdate: \"))\n",
    "\n",
    "    result = personal_information(name = input_0, birthdate = input_1)\n",
    "    result.info_1()\n",
    "    result.info_2()\n",
    "\n",
    "    print(f\"Age: {result.info_2()}\")\n",
    "\n",
    "except Exception as Except:\n",
    "    print(\"Type of error: \", Except)\n",
    "\n",
    "finally:\n",
    "    print(\"Complated calculation\")"
   ]
  },
  {
   "cell_type": "code",
   "execution_count": 63,
   "metadata": {},
   "outputs": [
    {
     "output_type": "stream",
     "name": "stdout",
     "text": [
      "Password:  şfdsmk\nType of error:  You don't use turkish character\n"
     ]
    }
   ],
   "source": [
    "turkish_character = \"ıİöÖÜüğĞŞşçÇ\"\n",
    "\n",
    "input_1 = input(\"Paasword: \")\n",
    "print(\"Password: \", input_1)\n",
    "\n",
    "def checkPassword(password):\n",
    "\n",
    "    for password in turkish_character:\n",
    "        if password in turkish_character:\n",
    "            raise Exception(\"You don't use turkish character\")\n",
    "        else:\n",
    "            print(\"Operation is successful.\")\n",
    "\n",
    "try:\n",
    "    checkPassword(password = input_1)\n",
    "except Exception as Except:\n",
    "    print(\"Type of error: \", Except)"
   ]
  },
  {
   "cell_type": "code",
   "execution_count": 1,
   "metadata": {},
   "outputs": [
    {
     "output_type": "stream",
     "name": "stdout",
     "text": [
      "Your entered password:  aA1@\nType of error:  Password must be the most least 8 character !!!\nComplated yours !!!\n"
     ]
    }
   ],
   "source": [
    "def check_password(psw):\n",
    "\n",
    "    import re \n",
    "\n",
    "    if len(psw) < 8:\n",
    "        raise Exception(\"Password must be the most least 8 character !!!\")\n",
    "    elif not re.search(\"[a-z]\", psw):\n",
    "        raise Exception(\"Password must contains small letter !!!\")\n",
    "    elif not re.search(\"[A-Z]\", psw):\n",
    "        raise Exception(\"Password must contains big letter !!!\")\n",
    "    elif not re.search(\"[0-9]\", psw):\n",
    "        raise Exception(\"Password must contains number !!!\")\n",
    "    elif not re.search(\"[_@&]\", psw):\n",
    "        raise Exception(\"Password must contains alpha numeric number !!!\")\n",
    "    elif not re.search(\"[\\s]\", psw):\n",
    "        raise Exception(\"Password must not contains space character !!!\")\n",
    "    else:\n",
    "        print(\"Password confirmed\")\n",
    "\n",
    "password = input(\"Password: \")\n",
    "print(\"Your entered password: \", password)\n",
    "\n",
    "try:\n",
    "    check_password(psw=password)\n",
    "except Exception as Except:\n",
    "    print(\"Type of error: \", Except)\n",
    "finally:\n",
    "    print(\"Complated yours !!!\")"
   ]
  },
  {
   "cell_type": "code",
   "execution_count": null,
   "metadata": {},
   "outputs": [],
   "source": []
  }
 ]
}