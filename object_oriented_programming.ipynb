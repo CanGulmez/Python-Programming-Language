{
 "cells": [
  {
   "cell_type": "markdown",
   "metadata": {},
   "source": [
    "# Object Oriented Programming"
   ]
  },
  {
   "cell_type": "markdown",
   "metadata": {},
   "source": [
    "### Simply in here, My purpose calculate domain of circle"
   ]
  },
  {
   "cell_type": "code",
   "execution_count": 2,
   "metadata": {},
   "outputs": [
    {
     "name": "stdout",
     "output_type": "stream",
     "text": [
      "Hi Mr.Serdar Bayraktar and other my friens !!!\n",
      "Domain of circle: 1962.5\n",
      "Complated your calculation !!!\n"
     ]
    }
   ],
   "source": [
    "class circle:\n",
    "\n",
    "    pi = 3.14\n",
    "\n",
    "    def __init__(self, radius):\n",
    "\n",
    "        self.radius = radius\n",
    "\n",
    "    @staticmethod\n",
    "    def personal(name):\n",
    "        print(f\"Hi Mr.{name} and other my friens !!!\")\n",
    "\n",
    "    def domain_circle(self):\n",
    "\n",
    "        if not isinstance(self.radius, int):\n",
    "            raise Exception(\"Radius have to be integer !!!\")\n",
    "        else:\n",
    "            return self.pi * (self.radius ** 2)\n",
    "\n",
    "try:\n",
    "    result = circle(radius= 25)\n",
    "    result.domain_circle()\n",
    "    result.personal(name= \"Serdar Bayraktar\")\n",
    "\n",
    "    print(f\"Domain of circle: {result.domain_circle()}\")\n",
    "\n",
    "except Exception as Except:\n",
    "    print(\"Type of error: \", Except)\n",
    "finally:\n",
    "    print(\"Complated your calculation !!!\")"
   ]
  },
  {
   "cell_type": "code",
   "execution_count": 23,
   "metadata": {},
   "outputs": [
    {
     "name": "stdout",
     "output_type": "stream",
     "text": [
      "Type of error:  invalid literal for int() with base 10: 'fg'\n"
     ]
    }
   ],
   "source": [
    "class square_calculation:\n",
    "\n",
    "    def __init__(self, edge):\n",
    "        self.edge = edge\n",
    "    \n",
    "    @staticmethod\n",
    "    def name(input):\n",
    "        print(f\"Hello Mr.{input}\")\n",
    "\n",
    "    def square_domain(self):\n",
    "\n",
    "        if not isinstance(self.edge, int):\n",
    "            raise Exception(\"Edge must be integer !!!\")\n",
    "        elif self.edge < 0:\n",
    "            raise Exception(\"Edge must not be small from zero !!!\")\n",
    "        elif isinstance(self.edge, str):\n",
    "            raise Exception(\"Edge must be integer !!!\")\n",
    "        else:\n",
    "            return self.edge ** 2\n",
    "\n",
    "    def square_environment(self):\n",
    "        \n",
    "        if not isinstance(self.edge, int):\n",
    "            raise Exception(\"Edge must be integer !!!\")\n",
    "        elif self.edge < 0:\n",
    "            raise Exception(\"Edge must not be small from zero !!!\")\n",
    "        elif isinstance(self.edge, str):\n",
    "            raise Exception(\"Edge must be integer !!!\")\n",
    "        else:\n",
    "            return 4 * self.edge\n",
    "\n",
    "try:\n",
    "    input_1 = int(input(\"Edge: \"))\n",
    "    input_2 = input(\"Name: \")\n",
    "\n",
    "    result = square_calculation(edge=input_1)\n",
    "    result.square_domain()\n",
    "    result.square_environment()\n",
    "    result.name(input=input_2)\n",
    "\n",
    "    print(f\"Domain of square: {result.square_domain()} \\nEnvironment of square: {result.square_environment()}\")\n",
    "except Exception as Ex:\n",
    "    print(\"Type of error: \", Ex)"
   ]
  },
  {
   "cell_type": "code",
   "execution_count": 1,
   "metadata": {},
   "outputs": [
    {
     "name": "stdout",
     "output_type": "stream",
     "text": [
      "Type of error:  invalid literal for int() with base 10: 'd'\n"
     ]
    }
   ],
   "source": [
    "systems_password = 1234\n",
    "input_1 = int(input(\"Password: \"))\n",
    "\n",
    "if systems_password == input_1:\n",
    "\n",
    "    class rectangle_calculation:\n",
    "\n",
    "        def __init__(self, short_edge, long_edge):\n",
    "\n",
    "            self.short_edge = short_edge\n",
    "            self.long_edge = long_edge\n",
    "\n",
    "        @staticmethod\n",
    "        def input_password(name, password):\n",
    "            print(f\"Hello Mr.{name}\")\n",
    "            print(\"Wellcome to calculate domain and environment of rectangle\")\n",
    "            print(\"*********************************\")\n",
    "\n",
    "            print(\"Short edge: \", input_2)\n",
    "            print(\"Long edge: \", input_3)\n",
    "            print(\"*********************************\")\n",
    "\n",
    "        def rectangle_domain(self):\n",
    "            return self.long_edge * self.short_edge\n",
    "\n",
    "        def rectangle_environment(self):\n",
    "            return 2 * self.long_edge + 2 * self.short_edge\n",
    "\n",
    "    try:\n",
    "        input_0 = input(\"Name: \")\n",
    "        input_2 = int(input(\"Short edge: \"))\n",
    "        input_3 = int(input(\"Long edge: \"))\n",
    "\n",
    "        result = rectangle_calculation(short_edge=input_2, long_edge=input_3)\n",
    "        result.input_password(name=input_0, password=input_1)\n",
    "        result.rectangle_domain()\n",
    "        result.rectangle_environment()\n",
    "\n",
    "        print(f\"Domain of rectangle: {result.rectangle_domain()}\\nEnviroment of rectangle:{result.rectangle_environment()}\")\n",
    "\n",
    "    except Exception as ex:\n",
    "        print(\"Type of error: \", ex)\n",
    "else:\n",
    "    print(\"WARNİNG: Wrong Password !!!\")"
   ]
  },
  {
   "cell_type": "code",
   "execution_count": 7,
   "metadata": {},
   "outputs": [
    {
     "name": "stdout",
     "output_type": "stream",
     "text": [
      "Creating your information ...\n",
      "Name: Can \n",
      "Surname: Gülmez \n",
      "Age: 19\n"
     ]
    }
   ],
   "source": [
    "class person:\n",
    "\n",
    "    def __init__(self, name, surname, birthday):\n",
    "\n",
    "        self.name = name\n",
    "        self.surname = surname\n",
    "        self.birthday = birthday\n",
    "\n",
    "    def age(self):\n",
    "        return 2021 - self.birthday\n",
    "\n",
    "input1 = input(\"Your name: \")\n",
    "input2 = input(\"Your surname: \")\n",
    "input3 = int(input(\"Your birthdate: \"))\n",
    "\n",
    "result = person(name=input1, surname=input2, birthday=input3)\n",
    "result.age()\n",
    "\n",
    "print(\"Creating your information ...\") \n",
    "print(f\"Name: {result.name} \\nSurname: {result.surname} \\nAge: {result.age()}\")"
   ]
  },
  {
   "cell_type": "code",
   "execution_count": 1,
   "metadata": {},
   "outputs": [
    {
     "name": "stdout",
     "output_type": "stream",
     "text": [
      "Domain of sphere: 1232100 * Pİ \n",
      "Volume of sphere: 227938500.0 * Pİ\n"
     ]
    }
   ],
   "source": [
    "class sphere_calculation:\n",
    "    # pi = 3.14\n",
    "\n",
    "    def __init__(self, radius):\n",
    "\n",
    "        self.radius = radius\n",
    "\n",
    "    def sphere_domain(self):\n",
    "        return (4 * (self.radius ** 2))\n",
    "\n",
    "    def sphere_volume(self):\n",
    "        return (4/3 * (self.radius ** 3))\n",
    "\n",
    "input1 = int(input(\"Radius: \"))\n",
    "\n",
    "result = sphere_calculation(radius=input1)\n",
    "result.sphere_domain()\n",
    "result.sphere_volume()\n",
    "\n",
    "print(f\"Domain of sphere: {str(result.sphere_domain()) + ' * Pİ'} \\nVolume of sphere: {str(result.sphere_volume()) + ' * Pİ'}\")"
   ]
  },
  {
   "cell_type": "code",
   "execution_count": 5,
   "metadata": {},
   "outputs": [
    {
     "name": "stdout",
     "output_type": "stream",
     "text": [
      "Hello Cem\n",
      "How are you ?\n",
      "I am good\n",
      "Benim adım: Cem\n",
      "Benim adım: Ali, yaşım: 18\n",
      "Benim adım: Ece, yaşadığım şehir: Kayseri\n"
     ]
    }
   ],
   "source": [
    "class example_1():\n",
    "\n",
    "    def __init__(self, name):\n",
    "        self.name = name\n",
    "\n",
    "    def example_1_1(self):\n",
    "        print(\"Hello \" + self.name)\n",
    "\n",
    "class example_2(example_1):\n",
    "\n",
    "    def __init__(self, name, age):\n",
    "        self.name = name\n",
    "        self.age = age\n",
    "\n",
    "        example_1.__init__(self, name)\n",
    "\n",
    "    def example_2_2(self):\n",
    "        print(\"How are you ?\")\n",
    "\n",
    "class example_3(example_1):\n",
    "\n",
    "    def __init__(self, name, city):\n",
    "        self.name = name\n",
    "        self.city = city\n",
    "\n",
    "        example_1.__init__(self, name)\n",
    "\n",
    "    def example_3_3(self):\n",
    "        print(\"I am good\")\n",
    "\n",
    "result_1 = example_1(name=\"Cem\")\n",
    "result_1.example_1_1()\n",
    "result_2 = example_2(name=\"Ali\", age=18)\n",
    "result_2.example_2_2()\n",
    "result_3 = example_3(name=\"Ece\", city=\"Kayseri\")\n",
    "result_3.example_3_3()\n",
    "\n",
    "print(f\"Benim adım: {result_1.name}\")\n",
    "print(f\"Benim adım: {result_2.name}, yaşım: {result_2.age}\")\n",
    "print(f\"Benim adım: {result_3.name}, yaşadığım şehir: {result_3.city}\")"
   ]
  },
  {
   "cell_type": "code",
   "execution_count": null,
   "metadata": {},
   "outputs": [],
   "source": []
  }
 ],
 "metadata": {
  "interpreter": {
   "hash": "e6326ae2dc7cd7629e7601181b1c625552adf2d5e9e5e96f66d5d4efbd1b9385"
  },
  "kernelspec": {
   "display_name": "Python 3.8.5 64-bit",
   "name": "python3"
  },
  "language_info": {
   "codemirror_mode": {
    "name": "ipython",
    "version": 3
   },
   "file_extension": ".py",
   "mimetype": "text/x-python",
   "name": "python",
   "nbconvert_exporter": "python",
   "pygments_lexer": "ipython3",
   "version": "3.8.5"
  },
  "metadata": {
   "interpreter": {
    "hash": "e6326ae2dc7cd7629e7601181b1c625552adf2d5e9e5e96f66d5d4efbd1b9385"
   }
  },
  "orig_nbformat": 2
 },
 "nbformat": 4,
 "nbformat_minor": 2
}
