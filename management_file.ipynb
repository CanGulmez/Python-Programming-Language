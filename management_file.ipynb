{
 "cells": [
  {
   "cell_type": "markdown",
   "metadata": {},
   "source": [
    "# Management File"
   ]
  },
  {
   "cell_type": "markdown",
   "metadata": {},
   "source": [
    "## \"w\": Create new file and write from zero"
   ]
  },
  {
   "cell_type": "code",
   "execution_count": 91,
   "metadata": {},
   "outputs": [],
   "source": [
    "files = open(\"C:/ARTIFICIAL INTELLIGENCE/03 - Machine Learning/00 - Basics Python/Additional/New_File_0.txt\", mode=\"w\", encoding=\"utf-8\")\n",
    "files.write(\"Python is the most popular language \\nApple is great fruit \\nBananas are yellow \\nBeetroot is healhty \\nMushroom is small vegetables\")\n",
    "files.close()"
   ]
  },
  {
   "cell_type": "code",
   "execution_count": 9,
   "metadata": {},
   "outputs": [],
   "source": [
    "files = open(\"C:/ARTIFICIAL INTELLIGENCE/03 - Machine Learning/00 - Basics Python/Additional/New_File.html\", mode=\"w\", encoding=\"utf-8\")\n",
    "files.write(\"Well Done\")\n",
    "files.close()"
   ]
  },
  {
   "cell_type": "code",
   "execution_count": 57,
   "metadata": {},
   "outputs": [],
   "source": [
    "files = open(\"C:/ARTIFICIAL INTELLIGENCE/03 - Machine Learning/00 - Basics Python/Additional/New_File_3.xlsx\", mode=\"w\", encoding=\"utf-8\")\n",
    "files.write(\"Well Done\")\n",
    "files.close()"
   ]
  },
  {
   "cell_type": "markdown",
   "metadata": {},
   "source": [
    "## \"a\": Create file and write adding on top"
   ]
  },
  {
   "cell_type": "code",
   "execution_count": 13,
   "metadata": {},
   "outputs": [],
   "source": [
    "files = open(\"C:/ARTIFICIAL INTELLIGENCE/03 - Machine Learning/00 - Basics Python/Additional/New_File_1.txt\", mode=\"a\", encoding=\"utf-8\")\n",
    "files.write(\"Examples\")\n",
    "files.close()"
   ]
  },
  {
   "cell_type": "code",
   "execution_count": 54,
   "metadata": {},
   "outputs": [],
   "source": [
    "files = open(\"C:/ARTIFICIAL INTELLIGENCE/03 - Machine Learning/00 - Basics Python/Additional/New_File_1.txt\", mode=\"a\", encoding=\"utf-8\")\n",
    "files.write(\"\\nPython is the most popular language \\nApple is great fruit \\nBananas are yellow \\nBeetroot is healhty \\nMushroom is small vegetables\")\n",
    "files.close()"
   ]
  },
  {
   "cell_type": "markdown",
   "metadata": {},
   "source": [
    "## \"r\": Just ead created file"
   ]
  },
  {
   "cell_type": "code",
   "execution_count": 92,
   "metadata": {},
   "outputs": [],
   "source": [
    "file_1 = open(\"C:/ARTIFICIAL INTELLIGENCE/03 - Machine Learning/00 - Basics Python/Additional/New_File_0.txt\", mode=\"r\", encoding=\"utf-8\")\n",
    "\n",
    "# file_1.read()         # Write content\n",
    "# file_1.read(50)       # write fist 50 charachters\n",
    "# file_1.readline()     # write first row\n",
    "# file_1.readlines()    # write all row\n",
    "# file_1.readlines()[2] # we can select wanted row \n",
    "\n",
    "# for i in file_1.readlines():\n",
    "#     print(i)\n",
    "\n",
    "# file_1.close()"
   ]
  },
  {
   "cell_type": "markdown",
   "metadata": {},
   "source": [
    "## Convert DataFrame"
   ]
  },
  {
   "cell_type": "code",
   "execution_count": 93,
   "metadata": {},
   "outputs": [],
   "source": [
    "import pandas as pd "
   ]
  },
  {
   "cell_type": "code",
   "execution_count": 94,
   "metadata": {},
   "outputs": [],
   "source": [
    "result_1 = pd.DataFrame(data=file_1.readlines(), columns=[\"A\"])"
   ]
  },
  {
   "cell_type": "code",
   "execution_count": 95,
   "metadata": {},
   "outputs": [
    {
     "data": {
      "text/html": [
       "<div>\n",
       "<style scoped>\n",
       "    .dataframe tbody tr th:only-of-type {\n",
       "        vertical-align: middle;\n",
       "    }\n",
       "\n",
       "    .dataframe tbody tr th {\n",
       "        vertical-align: top;\n",
       "    }\n",
       "\n",
       "    .dataframe thead th {\n",
       "        text-align: right;\n",
       "    }\n",
       "</style>\n",
       "<table border=\"1\" class=\"dataframe\">\n",
       "  <thead>\n",
       "    <tr style=\"text-align: right;\">\n",
       "      <th></th>\n",
       "      <th>A</th>\n",
       "    </tr>\n",
       "  </thead>\n",
       "  <tbody>\n",
       "    <tr>\n",
       "      <th>0</th>\n",
       "      <td>Python is the most popular language \\n</td>\n",
       "    </tr>\n",
       "    <tr>\n",
       "      <th>1</th>\n",
       "      <td>Apple is great fruit \\n</td>\n",
       "    </tr>\n",
       "    <tr>\n",
       "      <th>2</th>\n",
       "      <td>Bananas are yellow \\n</td>\n",
       "    </tr>\n",
       "    <tr>\n",
       "      <th>3</th>\n",
       "      <td>Beetroot is healhty \\n</td>\n",
       "    </tr>\n",
       "    <tr>\n",
       "      <th>4</th>\n",
       "      <td>Mushroom is small vegetables</td>\n",
       "    </tr>\n",
       "  </tbody>\n",
       "</table>\n",
       "</div>"
      ],
      "text/plain": [
       "                                        A\n",
       "0  Python is the most popular language \\n\n",
       "1                 Apple is great fruit \\n\n",
       "2                   Bananas are yellow \\n\n",
       "3                  Beetroot is healhty \\n\n",
       "4            Mushroom is small vegetables"
      ]
     },
     "execution_count": 95,
     "metadata": {},
     "output_type": "execute_result"
    }
   ],
   "source": [
    "result_1"
   ]
  },
  {
   "cell_type": "code",
   "execution_count": 72,
   "metadata": {},
   "outputs": [],
   "source": [
    "file_2 = open(\"C:/ARTIFICIAL INTELLIGENCE/03 - Machine Learning/00 - Basics Python/Additional/New_File_3.xlsx\", mode=\"r\", encoding=\"utf-8\")\n",
    "\n",
    "import pandas as pd \n",
    "\n",
    "result = pd.DataFrame(data=file_2.readline(), columns=[\"A\"], index = [\"1.\"])"
   ]
  },
  {
   "cell_type": "code",
   "execution_count": 73,
   "metadata": {},
   "outputs": [
    {
     "data": {
      "text/html": [
       "<div>\n",
       "<style scoped>\n",
       "    .dataframe tbody tr th:only-of-type {\n",
       "        vertical-align: middle;\n",
       "    }\n",
       "\n",
       "    .dataframe tbody tr th {\n",
       "        vertical-align: top;\n",
       "    }\n",
       "\n",
       "    .dataframe thead th {\n",
       "        text-align: right;\n",
       "    }\n",
       "</style>\n",
       "<table border=\"1\" class=\"dataframe\">\n",
       "  <thead>\n",
       "    <tr style=\"text-align: right;\">\n",
       "      <th></th>\n",
       "      <th>A</th>\n",
       "    </tr>\n",
       "  </thead>\n",
       "  <tbody>\n",
       "    <tr>\n",
       "      <th>1.</th>\n",
       "      <td>Well Done</td>\n",
       "    </tr>\n",
       "  </tbody>\n",
       "</table>\n",
       "</div>"
      ],
      "text/plain": [
       "            A\n",
       "1.  Well Done"
      ]
     },
     "execution_count": 73,
     "metadata": {},
     "output_type": "execute_result"
    }
   ],
   "source": [
    "result"
   ]
  },
  {
   "cell_type": "markdown",
   "metadata": {},
   "source": [
    "## Upgrade"
   ]
  },
  {
   "cell_type": "code",
   "execution_count": 122,
   "metadata": {},
   "outputs": [
    {
     "data": {
      "text/plain": [
       "'Ali Baba .....\\nba .....\\n language \\nApple is great fruit \\nBananas are yellow \\nBeetroot is healhty \\nMushroom is small vegetablesAli Baba .....Ali Baba .....Ali Baba .....Ali Baba .....Ali Baba .....Ali Baba .....Ali Baba .....\\nAli Baba .....\\nAli Baba .....\\nAli Baba .....\\n'"
      ]
     },
     "execution_count": 122,
     "metadata": {},
     "output_type": "execute_result"
    }
   ],
   "source": [
    "file_1 = open(\"C:/ARTIFICIAL INTELLIGENCE/03 - Machine Learning/00 - Basics Python/Additional/New_File_0.txt\", mode=\"r+\", encoding=\"utf-8\")\n",
    "file_1.read()\n",
    "# file_1.seek(0)\n",
    "# file_1.write(\"Ali Baba .....\\n\")"
   ]
  },
  {
   "cell_type": "code",
   "execution_count": 123,
   "metadata": {},
   "outputs": [
    {
     "data": {
      "text/plain": [
       "'Ali Baba .....\\nba .....\\n language \\nApple is great fruit \\nBananas are yellow \\nBeetroot is healhty \\nMushroom is small vegetablesAli Baba .....Ali Baba .....Ali Baba .....Ali Baba .....Ali Baba .....Ali Baba .....Ali Baba .....\\nAli Baba .....\\nAli Baba .....\\nAli Baba .....\\n'"
      ]
     },
     "execution_count": 123,
     "metadata": {},
     "output_type": "execute_result"
    }
   ],
   "source": [
    "file_1 = open(\"C:/ARTIFICIAL INTELLIGENCE/03 - Machine Learning/00 - Basics Python/Additional/New_File_0.txt\", mode=\"r+\", encoding=\"utf-8\")\n",
    "file_1.read()"
   ]
  },
  {
   "cell_type": "code",
   "execution_count": null,
   "metadata": {},
   "outputs": [],
   "source": []
  }
 ],
 "metadata": {
  "kernelspec": {
   "display_name": "Python 3.8.5 64-bit",
   "name": "python385jvsc74a57bd0e6326ae2dc7cd7629e7601181b1c625552adf2d5e9e5e96f66d5d4efbd1b9385"
  },
  "language_info": {
   "codemirror_mode": {
    "name": "ipython",
    "version": 3
   },
   "file_extension": ".py",
   "mimetype": "text/x-python",
   "name": "python",
   "nbconvert_exporter": "python",
   "pygments_lexer": "ipython3",
   "version": "3.8.5"
  },
  "metadata": {
   "interpreter": {
    "hash": "e6326ae2dc7cd7629e7601181b1c625552adf2d5e9e5e96f66d5d4efbd1b9385"
   }
  },
  "orig_nbformat": 2
 },
 "nbformat": 4,
 "nbformat_minor": 2
}
